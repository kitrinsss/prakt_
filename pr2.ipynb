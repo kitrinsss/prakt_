{
  "metadata": {
    "kernelspec": {
      "name": "python",
      "display_name": "Python (Pyodide)",
      "language": "python"
    },
    "language_info": {
      "codemirror_mode": {
        "name": "python",
        "version": 3
      },
      "file_extension": ".py",
      "mimetype": "text/x-python",
      "name": "python",
      "nbconvert_exporter": "python",
      "pygments_lexer": "ipython3",
      "version": "3.8"
    }
  },
  "nbformat_minor": 5,
  "nbformat": 4,
  "cells": [
    {
      "id": "cc6f759b-2250-4ac7-934e-33e0d2390d38",
      "cell_type": "code",
      "source": "#задание 1\nmy_list = ['Anatoly', 'Fedor', 1, 2, 3]\nfirst_item = my_list[0]\nlast_item = my_list[-1]\nreversed_my_list = my_list[::-1]\neven_items = my_list[::2]\n\nprint(\"my_list=\", my_list)\nprint(\"first_item=\", first_item)\nprint(\"last_item=\", last_item)\nprint(\"reversed_my_list=\", reversed_my_list)\nprint(\"even_items=\", even_items)",
      "metadata": {
        "trusted": true
      },
      "outputs": [
        {
          "name": "stdout",
          "output_type": "stream",
          "text": "my_list= ['Anatoly', 'Fedor', 1, 2, 3]\nfirst_item= Anatoly\nlast_item= 3\nreversed_my_list= [3, 2, 1, 'Fedor', 'Anatoly']\neven_items= ['Anatoly', 1, 3]\n"
        }
      ],
      "execution_count": 4
    },
    {
      "id": "c27e9a64-b857-482f-b285-1cf30bd12af2",
      "cell_type": "code",
      "source": "#задание 2\nvar_1 = list(range(-100, 101))\nvar_2 = list(range(250, -1, -2))\nvar_3 = list(range(101, 200, 2))\nprint(\"Список1\", var_1)\nprint(\"Список2\", var_2)\n\nprint(\"Список3\", var_3)",
      "metadata": {
        "trusted": true
      },
      "outputs": [
        {
          "name": "stdout",
          "output_type": "stream",
          "text": "Список1 [-100, -99, -98, -97, -96, -95, -94, -93, -92, -91, -90, -89, -88, -87, -86, -85, -84, -83, -82, -81, -80, -79, -78, -77, -76, -75, -74, -73, -72, -71, -70, -69, -68, -67, -66, -65, -64, -63, -62, -61, -60, -59, -58, -57, -56, -55, -54, -53, -52, -51, -50, -49, -48, -47, -46, -45, -44, -43, -42, -41, -40, -39, -38, -37, -36, -35, -34, -33, -32, -31, -30, -29, -28, -27, -26, -25, -24, -23, -22, -21, -20, -19, -18, -17, -16, -15, -14, -13, -12, -11, -10, -9, -8, -7, -6, -5, -4, -3, -2, -1, 0, 1, 2, 3, 4, 5, 6, 7, 8, 9, 10, 11, 12, 13, 14, 15, 16, 17, 18, 19, 20, 21, 22, 23, 24, 25, 26, 27, 28, 29, 30, 31, 32, 33, 34, 35, 36, 37, 38, 39, 40, 41, 42, 43, 44, 45, 46, 47, 48, 49, 50, 51, 52, 53, 54, 55, 56, 57, 58, 59, 60, 61, 62, 63, 64, 65, 66, 67, 68, 69, 70, 71, 72, 73, 74, 75, 76, 77, 78, 79, 80, 81, 82, 83, 84, 85, 86, 87, 88, 89, 90, 91, 92, 93, 94, 95, 96, 97, 98, 99, 100]\nСписок2 [250, 248, 246, 244, 242, 240, 238, 236, 234, 232, 230, 228, 226, 224, 222, 220, 218, 216, 214, 212, 210, 208, 206, 204, 202, 200, 198, 196, 194, 192, 190, 188, 186, 184, 182, 180, 178, 176, 174, 172, 170, 168, 166, 164, 162, 160, 158, 156, 154, 152, 150, 148, 146, 144, 142, 140, 138, 136, 134, 132, 130, 128, 126, 124, 122, 120, 118, 116, 114, 112, 110, 108, 106, 104, 102, 100, 98, 96, 94, 92, 90, 88, 86, 84, 82, 80, 78, 76, 74, 72, 70, 68, 66, 64, 62, 60, 58, 56, 54, 52, 50, 48, 46, 44, 42, 40, 38, 36, 34, 32, 30, 28, 26, 24, 22, 20, 18, 16, 14, 12, 10, 8, 6, 4, 2, 0]\nСписок3 [101, 103, 105, 107, 109, 111, 113, 115, 117, 119, 121, 123, 125, 127, 129, 131, 133, 135, 137, 139, 141, 143, 145, 147, 149, 151, 153, 155, 157, 159, 161, 163, 165, 167, 169, 171, 173, 175, 177, 179, 181, 183, 185, 187, 189, 191, 193, 195, 197, 199]\n"
        }
      ],
      "execution_count": 13
    },
    {
      "id": "377d1c80-53ef-49ee-af5b-d51953241ddb",
      "cell_type": "code",
      "source": "#задание 3\na = int(input(\"Введите число a:\"))\nb = int(input(\"Введите число b:\"))\nresult = 0\nfor i in range(a, b + 1):\n    result += i\nprint(\"Сумма всех чисел в диапазоне от {a} до {b}:\", result)\n\n        ",
      "metadata": {
        "trusted": true
      },
      "outputs": [
        {
          "output_type": "stream",
          "name": "stdin",
          "text": "Введите число a: 1\nВведите число b: 3\n"
        },
        {
          "name": "stdout",
          "output_type": "stream",
          "text": "Сумма всех чисел в диапазоне от {a} до {b}: 6\n"
        }
      ],
      "execution_count": 17
    },
    {
      "id": "32788fc6-4ef1-4082-8699-8e413ea32484",
      "cell_type": "code",
      "source": "#задание 4\nmy_list = [1, 10, 0, 10, 11]\neleven_index = my_list.index(11)\nten_count = my_list.count(10)\nprint(\"eleven_index=\", eleven_index)\nprint(\"ten_count=\", ten_count)",
      "metadata": {
        "trusted": true
      },
      "outputs": [
        {
          "name": "stdout",
          "output_type": "stream",
          "text": "eleven_index= 4\nten_count= 2\n"
        }
      ],
      "execution_count": 19
    },
    {
      "id": "5e011c7a-fae1-4d41-875f-04282d60beaa",
      "cell_type": "code",
      "source": "#задание 5\nstudent_names = ['Ivan', 'Sergei', 'Maria']\nscores = [0, 1, 2, 3, 4, 5, 6, 7, 8, 9,]\nlessons = ['Python', 'Analytics', 'History', 'Biology']\nstudent_names.extend(['Anatoly', 'Oksana'])\ndel scores[-1]\ndel scores[4]\ndel scores[1]\nlessons.sort()\nprint(\"Список студентов:\", student_names)\nprint(\"Оценки:\", scores)\nprint(\"Предметы:\", lessons)\n\n",
      "metadata": {
        "trusted": true
      },
      "outputs": [
        {
          "name": "stdout",
          "output_type": "stream",
          "text": "Список студентов: ['Ivan', 'Sergei', 'Maria', 'Anatoly', 'Oksana']\nОценки: [0, 2, 3, 5, 6, 7, 8]\nПредметы: ['Analytics', 'Biology', 'History', 'Python']\n"
        }
      ],
      "execution_count": 1
    },
    {
      "id": "2f74b5b9-acd7-4c65-a9aa-5f36440efb1f",
      "cell_type": "code",
      "source": "#задание 6\nimport random\nmy_list = []\nfor _ in range(10):\n    my_list.append(random.randint(10,100))\nprint(\"Список:\", my_list)\ntotal_sum = sum(my_list)\naverage_value = total_sum / len(my_list)\nprint(\"Сумма элементов:\", total_sum)\nprint(\"Среднее значение:\", average_value)",
      "metadata": {
        "trusted": true
      },
      "outputs": [
        {
          "name": "stdout",
          "output_type": "stream",
          "text": "Список: [63, 99, 35, 24, 83, 57, 40, 43, 79, 15]\nСумма элементов: 538\nСреднее значение: 53.8\n"
        }
      ],
      "execution_count": 8
    },
    {
      "id": "132627bc-fbee-4de2-ab62-c58a379533c3",
      "cell_type": "code",
      "source": "#задание 7\nmy_list = [1,2,3,4,5,5,4,3,2,1,5]\nmy_list_6 = [63,99,35,24,83,57,40,43,79,15]\n\nmy_list.insert(2, 'a')\nnew_list = my_list + my_list_6\nnumber_of_fives = new_list.count(5)\nprint(\"Обновленный список:\", new_list)\nprint(\"Количество пятерок:\", number_of_fives)",
      "metadata": {
        "trusted": true
      },
      "outputs": [
        {
          "name": "stdout",
          "output_type": "stream",
          "text": "Обновленный список: [1, 2, 'a', 3, 4, 5, 5, 4, 3, 2, 1, 5, 63, 99, 35, 24, 83, 57, 40, 43, 79, 15]\nКоличество пятерок: 3\n"
        }
      ],
      "execution_count": 14
    },
    {
      "id": "c8686001-b0a0-4458-80c2-d2d692afa790",
      "cell_type": "code",
      "source": "#задание 8\n",
      "metadata": {
        "trusted": true
      },
      "outputs": [],
      "execution_count": null
    }
  ]
}