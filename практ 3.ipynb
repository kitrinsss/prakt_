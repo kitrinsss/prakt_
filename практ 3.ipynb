{
  "metadata": {
    "kernelspec": {
      "name": "python",
      "display_name": "Python (Pyodide)",
      "language": "python"
    },
    "language_info": {
      "codemirror_mode": {
        "name": "python",
        "version": 3
      },
      "file_extension": ".py",
      "mimetype": "text/x-python",
      "name": "python",
      "nbconvert_exporter": "python",
      "pygments_lexer": "ipython3",
      "version": "3.8"
    }
  },
  "nbformat_minor": 5,
  "nbformat": 4,
  "cells": [
    {
      "id": "ff2e53d4-978e-4d46-a5e9-3a1a7e23c038",
      "cell_type": "code",
      "source": "#задание 1\n\nnumbers_list = [3, 1, 4, 1, 5, 9]\nnumbers_list_ordered = sorted(numbers_list, reverse = True)\n\nnumbers_set = set(numbers_list)\nmax_number = max(numbers_list)\nnext_max_number = max_number + 1\nnumbers_set.add(next_max_number)\n\nmin_number = min(numbers_list)\nnumbers_frozenset = frozenset(num for\nnum in numbers_set if num !=\nmin_number)\nprint(\"numbers_list\", numbers_list)\nprint(\"numbers_list_ordered\", numbers_list_ordered)\nprint(\"numbers_set\", numbers_set)\nprint(\"numbers_frozenset\", numbers_frozenset)\n\n",
      "metadata": {
        "trusted": true
      },
      "outputs": [
        {
          "name": "stdout",
          "output_type": "stream",
          "text": "numbers_list [3, 1, 4, 1, 5, 9]\nnumbers_list_ordered [9, 5, 4, 3, 1, 1]\nnumbers_set {1, 3, 4, 5, 9, 10}\nnumbers_frozenset frozenset({3, 4, 5, 9, 10})\n"
        }
      ],
      "execution_count": 6
    },
    {
      "id": "0f469c09-0f3d-48fc-a0c2-fd6446b02b6c",
      "cell_type": "code",
      "source": "#задание 2\nlist_1 = [ 5, 2, 9, 1, 4, 8]\nlist_2 = [ 3, 6, 1, 5, 7]\n\nlist_1 = sorted(list_1, reverse = False)\nlist_2 = sorted(list_2, reverse = True)\nlist_3 = list_1 + list_2\nlist_3 = sorted(list_3, reverse = False)\nlist_3_len = len(list_3)\n\nprint(\"list_1\", list_1)\nprint(\"list_2\", list_2)\nprint(\"list_3\", list_3)\nprint(\"длина списка\", list_3_len)",
      "metadata": {
        "trusted": true
      },
      "outputs": [
        {
          "name": "stdout",
          "output_type": "stream",
          "text": "list_1 [1, 2, 4, 5, 8, 9]\nlist_2 [7, 6, 5, 3, 1]\nlist_3 [1, 1, 2, 3, 4, 5, 5, 6, 7, 8, 9]\nдлина списка 11\n"
        }
      ],
      "execution_count": 12
    },
    {
      "id": "f22f11d0-29af-442f-af20-e55f13c505c5",
      "cell_type": "code",
      "source": "#задание 3\nmenu = {\"кофе латте\", \"капучино\", \"чай\", \"горячий шоколад\"}\nstop = {\"кофе латте\", \"чай\"}\nmenu_today = menu - stop\nprint(menu_today)",
      "metadata": {
        "trusted": true
      },
      "outputs": [
        {
          "name": "stdout",
          "output_type": "stream",
          "text": "{'горячий шоколад', 'капучино'}\n"
        }
      ],
      "execution_count": 13
    },
    {
      "id": "977b9993-4be5-4483-872a-db570cd947fe",
      "cell_type": "code",
      "source": "#задание 4 \nmy_set = {0, 10, 100}\nto_delete = 0\nmy_set.discard(to_delete)\nprint(\"новый список\", my_set)",
      "metadata": {
        "trusted": true
      },
      "outputs": [
        {
          "name": "stdout",
          "output_type": "stream",
          "text": "новый список {10, 100}\n"
        }
      ],
      "execution_count": 15
    },
    {
      "id": "dedc77b3-4d28-4155-9e62-d085f1054c6c",
      "cell_type": "code",
      "source": "#задание 5\nstudents = {'Иван Иванов', 'Анна Смирнова', 'Сергей Петров'}\nnew_student = 'Дмитрий Сидоров'\nchurn_student = 'Анна Смирнова'\nstudents.add(new_student)\nstudents.discard(churn_student)\nprint(\"Обновленный список студентов\", students)",
      "metadata": {
        "trusted": true
      },
      "outputs": [
        {
          "name": "stdout",
          "output_type": "stream",
          "text": "Обновленный список студентов {'Дмитрий Сидоров', 'Иван Иванов', 'Сергей Петров'}\n"
        }
      ],
      "execution_count": 17
    },
    {
      "id": "6e2f6fe8-056b-4356-bd2b-ee0b5386eba3",
      "cell_type": "code",
      "source": "#задание 6\n#студенты курса \"Аналитик данных\"\nda_students = {'Иван Иванов', 'Анна Смирнова', 'Мария Семенова', 'Сергей Петров'}\n#cтуденты курса \"Визуализация данных\"\ndv_students = {'Дмитрий Сидоров', 'Мария Семенова', 'Евгений Митько'}\nstudents = set()\nfor student in da_students:\n    if student in dv_students:\n        students.add(student)\n\nprint(students)\n",
      "metadata": {
        "trusted": true
      },
      "outputs": [
        {
          "name": "stdout",
          "output_type": "stream",
          "text": "{'Мария Семенова'}\n"
        }
      ],
      "execution_count": 47
    },
    {
      "id": "1c718e70-b786-4323-8a49-2a2dc8b1a1df",
      "cell_type": "code",
      "source": "#задание 7 \na = input(\"Введите целые числа через пробел\")\nb = list(map(int, a.split()))\nif len(a) % 2 != 0:\n    print(\"ошибка:количество чисел должно быть четным\")\nelse:\n    n = len(a) // 2\n    left_half = a[:n]\n    sum_left = sum(left_half)\n\n    right_half = a[n:]\n    sum_right = sum(right_half)\n\nif sum_left == sum_right:\n    result = True\nelse:\n    result = False\nprint(\"сумма левой половины\", sum_left)\nprint(\"сумма правой половины\", sum_right)\nprint(\"результат\", result)",
      "metadata": {
        "trusted": true
      },
      "outputs": [
        {
          "output_type": "stream",
          "name": "stdin",
          "text": "Введите целые числа через пробел 1 2 3 4\n"
        },
        {
          "name": "stdout",
          "output_type": "stream",
          "text": "ошибка:количество чисел должно быть четным\nсумма левой половины 3\nсумма правой половины 7\nрезультат False\n"
        }
      ],
      "execution_count": 54
    },
    {
      "id": "ff47561a-2b67-49a7-946c-b23bce17be2a",
      "cell_type": "code",
      "source": "",
      "metadata": {
        "trusted": true
      },
      "outputs": [],
      "execution_count": null
    }
  ]
}