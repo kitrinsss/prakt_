{
  "metadata": {
    "kernelspec": {
      "name": "python",
      "display_name": "Python (Pyodide)",
      "language": "python"
    },
    "language_info": {
      "codemirror_mode": {
        "name": "python",
        "version": 3
      },
      "file_extension": ".py",
      "mimetype": "text/x-python",
      "name": "python",
      "nbconvert_exporter": "python",
      "pygments_lexer": "ipython3",
      "version": "3.8"
    }
  },
  "nbformat_minor": 5,
  "nbformat": 4,
  "cells": [
    {
      "id": "ff2e53d4-978e-4d46-a5e9-3a1a7e23c038",
      "cell_type": "code",
      "source": "#задание 1\ndict_input = {'a': 1, 'b': 2, 'c':3}\nresult = {value: key for key, value in dict_input.items()}\nprint(result)",
      "metadata": {
        "trusted": true
      },
      "outputs": [
        {
          "name": "stdout",
          "output_type": "stream",
          "text": "{1: 'a', 2: 'b', 3: 'c'}\n"
        }
      ],
      "execution_count": 56
    },
    {
      "id": "0f469c09-0f3d-48fc-a0c2-fd6446b02b6c",
      "cell_type": "code",
      "source": "#задание 2\ndata = {\n    'cost_price': 30,\n    'sell_price': 50,\n    'eclairs': 100\n}\na = data['sell_price'] - data['cost_price']\nb = a * data['eclairs']\nresult = round(b)\nprint(\"Прибыль\", result)",
      "metadata": {
        "trusted": true
      },
      "outputs": [
        {
          "name": "stdout",
          "output_type": "stream",
          "text": "Прибыль 2000\n"
        }
      ],
      "execution_count": 58
    },
    {
      "id": "f22f11d0-29af-442f-af20-e55f13c505c5",
      "cell_type": "code",
      "source": "#задание 3\nstudent = {\"name\": \"Иван\", \"notes\": [2, 5, 3]}\nmax_note = max(student[\"notes\"])\nresult = {\"name\": student[\"name\"], \"max_note\": max_note}\nprint(result)",
      "metadata": {
        "trusted": true
      },
      "outputs": [
        {
          "name": "stdout",
          "output_type": "stream",
          "text": "{'name': 'Иван', 'max_note': 5}\n"
        }
      ],
      "execution_count": 60
    },
    {
      "id": "977b9993-4be5-4483-872a-db570cd947fe",
      "cell_type": "code",
      "source": "#задание 4\nanton_courses = {\n    'Mathematica': 56,\n    'Python': 90}\nanton_courses[\"HardML\"] = 120\ncourses = list(anton_courses.keys())\nPython = anton_courses.get(\"Python\", 0)\nprint(\"Курсы:\", courses)\nprint(\"Баллы на курсе Python:\", Python)",
      "metadata": {
        "trusted": true
      },
      "outputs": [
        {
          "name": "stdout",
          "output_type": "stream",
          "text": "Курсы: ['Mathematica', 'Python', 'HardML']\nБаллы на курсе Python: 90\n"
        }
      ],
      "execution_count": 63
    },
    {
      "id": "dedc77b3-4d28-4155-9e62-d085f1054c6c",
      "cell_type": "code",
      "source": "#задание 5\nshop_stock = {\n    'A354686GS': 10,\n    'G76357DGS': 5,\n    'G40764679': 8\n}\nshop_new_goods = {\n    'A354FH4GS': 15,\n    'G76397DGS': 20,\n    'G40703679': 12\n}\nresult = {**shop_stock, **shop_new_goods}\nprint(result)\n    ",
      "metadata": {
        "trusted": true
      },
      "outputs": [
        {
          "name": "stdout",
          "output_type": "stream",
          "text": "{'A354686GS': 10, 'G76357DGS': 5, 'G40764679': 8, 'A354FH4GS': 15, 'G76397DGS': 20, 'G40703679': 12}\n"
        }
      ],
      "execution_count": 64
    },
    {
      "id": "6e2f6fe8-056b-4356-bd2b-ee0b5386eba3",
      "cell_type": "code",
      "source": "#задание 6\ninput_dict = {\n    'яблоки': 50,\n    'груши': 30,\n    'картофель': 100,\n    'морковь': 70\n}\nresult = sum(input_dict.values())\nprint(result)",
      "metadata": {
        "trusted": true
      },
      "outputs": [
        {
          "name": "stdout",
          "output_type": "stream",
          "text": "250\n"
        }
      ],
      "execution_count": 65
    },
    {
      "id": "1c718e70-b786-4323-8a49-2a2dc8b1a1df",
      "cell_type": "code",
      "source": "#задание 7\ncourses = {\n    'Программирование': 30_000,\n    'Экономика': 50_000,\n    'Физика': 10_000,\n    'Философия': 25_000\n}\nresult = max(courses.values())\nprint(\"Самый дорогой курс:\", result)",
      "metadata": {
        "trusted": true
      },
      "outputs": [
        {
          "name": "stdout",
          "output_type": "stream",
          "text": "Самый дорогой курс: 50000\n"
        }
      ],
      "execution_count": 67
    },
    {
      "id": "ff47561a-2b67-49a7-946c-b23bce17be2a",
      "cell_type": "code",
      "source": "#задание 8 \nkaf_students = {\n    'Иванов Иван': 205,\n    'Петров Петр': 305,\n    'Сидоров  Иван': 112\n}\nnew_kaf_students = {\n    'Новиков Богдан': 213,\n    'Петров Петр': 105\n}\nfor student, kafedra in new_kaf_students.items():\n    kaf_students[student] = kafedra\nprint(\"обновленный список:\"kaf_students)",
      "metadata": {
        "trusted": true
      },
      "outputs": [
        {
          "name": "stdout",
          "output_type": "stream",
          "text": "{'Иванов Иван': 205, 'Петров Петр': 105, 'Сидоров  Иван': 112, 'Новиков Богдан': 213}\n"
        }
      ],
      "execution_count": 1
    },
    {
      "id": "5fb86b2d-a0eb-4255-8403-f4b103225ca6",
      "cell_type": "code",
      "source": "",
      "metadata": {
        "trusted": true
      },
      "outputs": [],
      "execution_count": null
    }
  ]
}