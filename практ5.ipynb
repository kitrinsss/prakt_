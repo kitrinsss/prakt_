{
  "metadata": {
    "kernelspec": {
      "name": "python",
      "display_name": "Python (Pyodide)",
      "language": "python"
    },
    "language_info": {
      "codemirror_mode": {
        "name": "python",
        "version": 3
      },
      "file_extension": ".py",
      "mimetype": "text/x-python",
      "name": "python",
      "nbconvert_exporter": "python",
      "pygments_lexer": "ipython3",
      "version": "3.8"
    }
  },
  "nbformat_minor": 5,
  "nbformat": 4,
  "cells": [
    {
      "id": "cc436eef-44ac-4714-aa57-a1efdde3bd8d",
      "cell_type": "code",
      "source": "#задание 1\nstr_1 = input(\"Введите первую строку:\")\nstr_2 = input(\"Введите вторую строку:\")\nis_the_same_letters = set(str_1.lower()) == set(str_2.lower())\nprint(is_the_same_letters)",
      "metadata": {
        "trusted": true
      },
      "outputs": [
        {
          "output_type": "stream",
          "name": "stdin",
          "text": "Введите первую строку: Hello\nВведите вторую строку: olleH\n"
        },
        {
          "name": "stdout",
          "output_type": "stream",
          "text": "True\n"
        }
      ],
      "execution_count": 7
    },
    {
      "id": "7c3314eb-ad0d-4d4b-b1ef-775c10ed502b",
      "cell_type": "code",
      "source": "#задание 2\nx = input(\"Введите число с десятичной частью: \")\ny = int(x.split('.')[1])\nprint(y)",
      "metadata": {
        "trusted": true
      },
      "outputs": [
        {
          "output_type": "stream",
          "name": "stdin",
          "text": "Введите число с десятичной частью:  3.14\n"
        },
        {
          "name": "stdout",
          "output_type": "stream",
          "text": "14\n"
        }
      ],
      "execution_count": 9
    },
    {
      "id": "2aaddf3d-8f0a-4bf4-8385-5816c61cca91",
      "cell_type": "code",
      "source": "#задание 3\ndef is_anagram(str_1, str_2):\n    \n    str_1 = str_1.lower().replace(\" \", \"\")\n    str_2 = str_2.lower().replace(\" \", \"\")\n    \n    return sorted(str_1) == sorted(str_2)\n\nstr_1 = input(\"Введите первую строку: \")\nstr_2 = input(\"Введите вторую строку: \")\n\nresult = is_anagram(str_1, str_2)\n\nprint(\"Являются ли строки анаграммами?\", result)\n\n",
      "metadata": {
        "trusted": true
      },
      "outputs": [
        {
          "output_type": "stream",
          "name": "stdin",
          "text": "Введите первую строку:  кот\nВведите вторую строку:  ток\n"
        },
        {
          "name": "stdout",
          "output_type": "stream",
          "text": "Являются ли строки анаграммами? True\n"
        }
      ],
      "execution_count": 11
    },
    {
      "id": "54d69467-0fc1-4d7c-a1d6-5633e845b4dd",
      "cell_type": "code",
      "source": "#задание 4\na = input(\"Введите предложение с лишними пробелами:\")\nresult = ' '.join(a.split())\n\nprint(result)",
      "metadata": {
        "trusted": true
      },
      "outputs": [
        {
          "output_type": "stream",
          "name": "stdin",
          "text": "Введите предложение с лишними пробелами: Поставьте  пять,    пожалуйста\n"
        },
        {
          "name": "stdout",
          "output_type": "stream",
          "text": "Поставьте пять, пожалуйста\n"
        }
      ],
      "execution_count": 13
    },
    {
      "id": "6491de5d-83c7-4247-9ba5-8064e4ffdf2f",
      "cell_type": "code",
      "source": "#задание  5\n\na = input(\"Введите строку в формате 'тег*количество': \")\ntag, count = a.split('*')\ncount = int(count)\nresult = ''.join(f\"<{tag}></{tag}>\" for _ in range(count))\n\nprint(result)\n",
      "metadata": {
        "trusted": true
      },
      "outputs": [
        {
          "output_type": "stream",
          "name": "stdin",
          "text": "Введите строку в формате 'тег*количество':  div*2\n"
        },
        {
          "name": "stdout",
          "output_type": "stream",
          "text": "<div></div><div></div>\n"
        }
      ],
      "execution_count": 15
    },
    {
      "id": "879636c2-d2a0-47a3-88af-408198be8683",
      "cell_type": "code",
      "source": "#задание 6\n\nx = input(\"Введите строку: \")\nwords = x.split()\nsorted_words = sorted(words)\n\nresult = ' '.join(sorted_words)\n\nprint(result)\n",
      "metadata": {
        "trusted": true
      },
      "outputs": [
        {
          "output_type": "stream",
          "name": "stdin",
          "text": "Введите строку:  птица арбуз чай ботинок фен\n"
        },
        {
          "name": "stdout",
          "output_type": "stream",
          "text": "арбуз ботинок птица фен чай\n"
        }
      ],
      "execution_count": 4
    },
    {
      "id": "f607a53f-e04e-47bb-8a9b-ba9f9471057b",
      "cell_type": "code",
      "source": "#задание 7\nx = input(\"Введите предложение:\")\ny = input(\"Введите повторяющееся слово:\")\n\nresult = x.count(y)\nprint(\"Количество повторяющегося слова\", result)\n",
      "metadata": {
        "trusted": true
      },
      "outputs": [
        {
          "output_type": "stream",
          "name": "stdin",
          "text": "Введите предложение: 'На подоконнике в гостиной у бабушки росли цветы, цветы были красные и желтые, очень красивые цветы\nВведите повторяющееся слово: цветы\n"
        },
        {
          "name": "stdout",
          "output_type": "stream",
          "text": "Количество повторяющегося слова 3\n"
        }
      ],
      "execution_count": 6
    },
    {
      "id": "ee876612-25fb-41d3-a685-7efda72f5710",
      "cell_type": "code",
      "source": "#задание 8\ndef mask_card(card):\n    card_str = str(card)\n    start_index = len(card_str) - 4\n    masked_part = '*' * start_index + card_str[start_index:]\n    return masked_part\n\ncard_number = int(input('Введите номер вашей карты: '))\nresult = mask_card(card_number)\nprint(\"Маскированный номер карты:\", result)\n",
      "metadata": {
        "trusted": true
      },
      "outputs": [
        {
          "output_type": "stream",
          "name": "stdin",
          "text": "Введите номер вашей карты:  41854262625484\n"
        },
        {
          "name": "stdout",
          "output_type": "stream",
          "text": "Маскированный номер карты: **********5484\n"
        }
      ],
      "execution_count": 10
    },
    {
      "id": "0c726373-7431-45e8-bd04-b84468c23c78",
      "cell_type": "code",
      "source": "#задание 9\n# Начальное предложение\na = 'Я помню чудное мгновенье'\n\n# Слово или символ, подлежащий удалению\nb = 'о'\n\n# Замена всех вхождений слова/символа b на пустую строку\nresult = a.replace(b, '')\n\n# Вывод результата\nprint(result)\n",
      "metadata": {
        "trusted": true
      },
      "outputs": [
        {
          "name": "stdout",
          "output_type": "stream",
          "text": "Я пмню чудне мгнвенье\n"
        }
      ],
      "execution_count": 11
    },
    {
      "id": "616e0b92-82fe-403f-8fa5-940ae8904cfd",
      "cell_type": "code",
      "source": "",
      "metadata": {
        "trusted": true
      },
      "outputs": [],
      "execution_count": null
    }
  ]
}