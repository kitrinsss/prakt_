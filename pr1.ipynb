{
  "metadata": {
    "kernelspec": {
      "name": "python",
      "display_name": "Python (Pyodide)",
      "language": "python"
    },
    "language_info": {
      "codemirror_mode": {
        "name": "python",
        "version": 3
      },
      "file_extension": ".py",
      "mimetype": "text/x-python",
      "name": "python",
      "nbconvert_exporter": "python",
      "pygments_lexer": "ipython3",
      "version": "3.8"
    }
  },
  "nbformat_minor": 5,
  "nbformat": 4,
  "cells": [
    {
      "id": "551ae4a0-b2a1-4852-8365-0b5873ce6286",
      "cell_type": "code",
      "source": "#Задача 3\nfather_age = int(input(\"Введите возраст отца:\")) \nson_age = int(input(\"Введите возраст сына:\"))\nresult = father_age - 2 * son_age\nif result < 0: \n\n    print (\"Отец уже в два раза старше сына\", result, \"лет назад\")\nelse:\n    print (\"Через\", result, \"лет отец будет вдвое старше сына\")\n",
      "metadata": {
        "trusted": true
      },
      "outputs": [
        {
          "output_type": "stream",
          "name": "stdin",
          "text": "Введите возраст отца: 40\nВведите возраст сына: 10\n"
        },
        {
          "name": "stdout",
          "output_type": "stream",
          "text": "Через 20 лет отец будет вдвое старше сына\n"
        }
      ],
      "execution_count": 6
    },
    {
      "id": "607e852d-9e25-49a2-a425-78444679c164",
      "cell_type": "code",
      "source": "#Задача 4\nimport math\na = float(input (\"Введите длину первой стороны\")) \nb = float (input (\"Введите длину второй стороны\")) \nc = float (input (\"Введите длину третьей стороны\") )\nperimeter = a + b + c\np = perimeter/2\narea = math.sqrt(p * (p-a) * (p-b) * (p-c))\nprint (\"Периметр:\", perimeter)\nprint (\"Площадь:\", area)",
      "metadata": {
        "trusted": true
      },
      "outputs": [
        {
          "output_type": "stream",
          "name": "stdin",
          "text": "Введите длину первой стороны 3\nВведите длину второй стороны 4\nВведите длину третьей стороны 5\n"
        },
        {
          "name": "stdout",
          "output_type": "stream",
          "text": "Периметр: 12.0\nПлощадь: 6.0\n"
        }
      ],
      "execution_count": 7
    },
    {
      "id": "49176ca3-4f03-4655-aa6b-101c4d962aee",
      "cell_type": "code",
      "source": "#Задача5\nn = int(input (\"Введите количество секунд:\"))\nhours = n//3600\nminutes = (n%3600)\nseconds = n%60\nprint(\"Часы\", hours)\nprint (\"Минуты\", minutes)\nprint (\"Секунды\", seconds)",
      "metadata": {
        "trusted": true
      },
      "outputs": [
        {
          "output_type": "stream",
          "name": "stdin",
          "text": "Введите количество секунд: 36650\n"
        },
        {
          "name": "stdout",
          "output_type": "stream",
          "text": "Часы 10\nМинуты 650\nСекунды 50\n"
        }
      ],
      "execution_count": 9
    },
    {
      "id": "90bff95d-599d-4e6e-adc4-55ddd795b5e8",
      "cell_type": "code",
      "source": "\n#Задача 6\nprice_new = float(input(\"Введите новую цену за килограмм бананов:\")) \nprice_old = float(input(\"Введите старую цену за килограмм бананов:\"))\nresult = abs((price_new - price_old) / price_old) * 100\nresult = round(result, 2)\nprint (\"Процентное изменение цены:\", result, \"%\")\n\n",
      "metadata": {
        "trusted": true
      },
      "outputs": [
        {
          "output_type": "stream",
          "name": "stdin",
          "text": "Введите новую цену за килограмм бананов: 500\nВведите старую цену за килограмм бананов: 400\n"
        },
        {
          "name": "stdout",
          "output_type": "stream",
          "text": "Процентное изменение цены: 25.0 %\n"
        }
      ],
      "execution_count": 40
    },
    {
      "id": "7f68f699-d7a6-4b42-8ff7-1e9665dd86c2",
      "cell_type": "code",
      "source": "\n#задача7\na = 5\nb = \"10\"\nc = True\nb_int = int(b)\nc_int = int(c)\nsum = a + b_int + c_int\nprint(sum)\n\n",
      "metadata": {
        "trusted": true
      },
      "outputs": [
        {
          "name": "stdout",
          "output_type": "stream",
          "text": "16\n"
        }
      ],
      "execution_count": 15
    },
    {
      "id": "46d8f5cf-6039-4812-a24d-33e85d85edaf",
      "cell_type": "code",
      "source": "#Задача 8\na = \"3.14\"\nfloat_a = float(a)\nc = int(float_a)\nprint(c)\n",
      "metadata": {
        "trusted": true
      },
      "outputs": [
        {
          "name": "stdout",
          "output_type": "stream",
          "text": "3\n"
        }
      ],
      "execution_count": 16
    },
    {
      "id": "dd6455c5-9869-4244-a3df-6ebba54bff9b",
      "cell_type": "code",
      "source": "#задача 9\nx = int(input(\"Введите положительное целое число:\"))\nx_str = str(x)\nnew_string = x_str + \"0\" + x_str + \"0\" + x_str\nnumber_from_string = int(new_string)\nresult = number_from_string + x\nprint(f\"Результат:\", result)",
      "metadata": {
        "trusted": true
      },
      "outputs": [
        {
          "output_type": "stream",
          "name": "stdin",
          "text": "Введите положительное целое число: 2\n"
        },
        {
          "name": "stdout",
          "output_type": "stream",
          "text": "Результат: 20204\n"
        }
      ],
      "execution_count": 1
    },
    {
      "id": "8814e095-857b-4874-b8f4-1b324bfd72a1",
      "cell_type": "code",
      "source": "#задача 10\nprint( \"ИВАН < иван\", 'ИВАН' < 'иван')\nprint( \"Python < R\", 'Python' < 'R')\nprint( \"big number != bug number\", 'big_number' != 'bug_number')\nprint( \"ЯЯЯ == Я Я\", 'ЯЯЯ' == 'ЯЯ')\nprint( \"игра >= икра\", 'игра' >= 'икра')\n\n",
      "metadata": {
        "trusted": true
      },
      "outputs": [
        {
          "name": "stdout",
          "output_type": "stream",
          "text": "ИВАН < иван True\nPython < R True\nbig number != bug number True\nЯЯЯ == Я Я False\nигра >= икра False\n"
        }
      ],
      "execution_count": 7
    },
    {
      "id": "78e78598-44ad-4858-b6db-1bf0b7e78f3e",
      "cell_type": "code",
      "source": "#задача 11\n\nm = int(input(\"Введите продолжительность сна в минутах:\"))\nhours = m / 60\nif(hours >= 7 and hours <= 9):\n    optimal_sleep_duration = True\nelse:\n    optimal_sleep_duration = False\nprint(\"optimal_sleep_duration\")\n       \n\n\n\n        ",
      "metadata": {
        "trusted": true
      },
      "outputs": [
        {
          "output_type": "stream",
          "name": "stdin",
          "text": "Введите продолжительность сна в минутах: 500\n"
        },
        {
          "name": "stdout",
          "output_type": "stream",
          "text": "optimal_sleep_duration\n"
        }
      ],
      "execution_count": 34
    },
    {
      "id": "2adcc350-44b5-4693-91ef-22fb29940c85",
      "cell_type": "code",
      "source": "#задание 12\nx = int(input(\"Введите целое число:\"))\nresult = (x % 3 == 0) and (x % 7 == 0)\nprint(result)",
      "metadata": {
        "trusted": true
      },
      "outputs": [
        {
          "output_type": "stream",
          "name": "stdin",
          "text": "Введите целое число: 21\n"
        },
        {
          "name": "stdout",
          "output_type": "stream",
          "text": "True\n"
        }
      ],
      "execution_count": 36
    },
    {
      "id": "33345057-6f5d-4aa8-b6d5-9d6e0a5a10c9",
      "cell_type": "code",
      "source": "#задание 13\ne = True * 0.5\ng = 2 == True\nd = True + 0.1\nc = bool(False) + 1\nf = False * True\na = False - True\nb = True + 0\nprint(\"e=\", e)\nprint(\"g=\", g)\nprint(\"d=\", d)\nprint(\"c=\", c)\nprint(\"f=\", f)\nprint(\"a=\", a)\nprint(\"b=\", b)",
      "metadata": {
        "trusted": true
      },
      "outputs": [
        {
          "name": "stdout",
          "output_type": "stream",
          "text": "e= 0.5\ng= False\nd= 1.1\nc= 1\nf= 0\na= -1\nb= 1\n"
        }
      ],
      "execution_count": 41
    },
    {
      "id": "42412249-2c19-450c-a79c-cf23dadd77e4",
      "cell_type": "code",
      "source": "#задание 14\nwidth = 5\nheight = 3\nfor i in range(height):\n    ",
      "metadata": {
        "trusted": true
      },
      "outputs": [
        {
          "name": "stdout",
          "output_type": "stream",
          "text": "square\n"
        }
      ],
      "execution_count": 49
    },
    {
      "id": "48f9bb70-281c-46c7-8249-c815e8b8e4b7",
      "cell_type": "code",
      "source": "",
      "metadata": {
        "trusted": true
      },
      "outputs": [],
      "execution_count": null
    }
  ]
}